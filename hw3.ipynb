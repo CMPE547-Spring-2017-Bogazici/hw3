{
 "cells": [
  {
   "cell_type": "code",
   "execution_count": 1,
   "metadata": {
    "collapsed": false
   },
   "outputs": [
    {
     "name": "stdout",
     "output_type": "stream",
     "text": [
      "Example\n"
     ]
    },
    {
     "data": {
      "text/latex": [
       "$p(x_t = \\text{'u'} | x_{t-1} = \\text{'q'})$"
      ],
      "text/plain": [
       "<IPython.core.display.Latex object>"
      ]
     },
     "metadata": {},
     "output_type": "display_data"
    },
    {
     "name": "stdout",
     "output_type": "stream",
     "text": [
      "0.9949749\n"
     ]
    },
    {
     "data": {
      "text/latex": [
       "$p(x_t | x_{t-1} = \\text{'a'})$"
      ],
      "text/plain": [
       "<IPython.core.display.Latex object>"
      ]
     },
     "metadata": {},
     "output_type": "display_data"
    },
    {
     "name": "stdout",
     "output_type": "stream",
     "text": [
      "a 0.0002835\n",
      "b 0.0228302\n",
      "c 0.0369041\n",
      "d 0.0426290\n",
      "e 0.0012216\n",
      "f 0.0075739\n",
      "g 0.0171385\n",
      "h 0.0014659\n",
      "i 0.0372661\n",
      "j 0.0002353\n",
      "k 0.0110124\n",
      "l 0.0778259\n",
      "m 0.0260757\n",
      "n 0.2145354\n",
      "o 0.0005459\n",
      "p 0.0195213\n",
      "q 0.0001749\n",
      "r 0.1104770\n",
      "s 0.0934290\n",
      "t 0.1317960\n",
      "u 0.0098029\n",
      "v 0.0306574\n",
      "w 0.0088799\n",
      "x 0.0009562\n",
      "y 0.0233701\n",
      "z 0.0018701\n",
      ". 0.0715219\n"
     ]
    }
   ],
   "source": [
    "import csv\n",
    "from IPython.display import display, Latex\n",
    "\n",
    "alphabet = [chr(i+ord('a')) for i in range(26)]\n",
    "alphabet.append('.')\n",
    "letter2idx = {c:i for i,c in enumerate(alphabet)}\n",
    "\n",
    "T = []\n",
    "with open('transitions.csv') as csvfile:\n",
    "    reader = csv.reader(csvfile, delimiter=',')\n",
    "    for row in reader:\n",
    "        T.append(row)\n",
    "\n",
    "print('Example')\n",
    "## p(x_t = 'u' | x_{t-1} = 'q')\n",
    "display(Latex(r\"$p(x_t = \\text{'u'} | x_{t-1} = \\text{'q'})$\"))\n",
    "print(T[letter2idx['q']][letter2idx['u']])\n",
    "display(Latex(r\"$p(x_t | x_{t-1} = \\text{'a'})$\"))\n",
    "for c,p in zip(alphabet,T[letter2idx['a']]):\n",
    "    print(c,p)    "
   ]
  },
  {
   "cell_type": "code",
   "execution_count": 3,
   "metadata": {
    "collapsed": false
   },
   "outputs": [
    {
     "name": "stdout",
     "output_type": "stream",
     "text": [
      "vealy.lasa\n"
     ]
    }
   ],
   "source": [
    "import numpy as np\n",
    "from random import randint\n",
    "N=10\n",
    "letters=[]\n",
    "letters.append('.');\n",
    "for i in range (0,N):\n",
    "    prev=letters[i]\n",
    "    prev_id=letter2idx[prev]\n",
    "    column=T[:][prev_id]\n",
    "    probs=np.array([float(j) for j in column])\n",
    "    probs /= probs.sum()\n",
    "    c=np.random.choice(alphabet,p=probs)\n",
    "    letters.append(c)\n",
    "str=\"\"\n",
    "for j in letters[1:]:\n",
    "    str+=j\n",
    "print(str)  "
   ]
  },
  {
   "cell_type": "code",
   "execution_count": 20,
   "metadata": {
    "collapsed": false
   },
   "outputs": [
    {
     "name": "stdout",
     "output_type": "stream",
     "text": [
      "('.',)\n",
      "('.',)\n",
      "-1.07200181398\n"
     ]
    }
   ],
   "source": [
    "import itertools as it\n",
    "strings = ['ans_er','th__br__n.f_x.', '_u_st__n_.to_be._nsw_r__',\n",
    "           'i__at_._a_h_n_._e_r_i_g',\n",
    "           'q___t.___z._____t.__.___.__.']\n",
    "def calc_prob( chars ):\n",
    "    val=1\n",
    "    for i in range (0,len(chars)-1):\n",
    "        prev_id=letter2idx[chars[i]]\n",
    "        current_id=letter2idx[chars[i+1]]\n",
    "        val*=float(T[current_id][prev_id])\n",
    "    return val;\n",
    "\n",
    "def fill_letters (string):\n",
    "    N=len(string)\n",
    "    unknown=[]\n",
    "    probs=[]\n",
    "\n",
    "    for ch in range (0,N):\n",
    "        current=string[ch]\n",
    "        if current=='?' or current=='_':\n",
    "            unknown.append(ch)\n",
    "\n",
    "\n",
    "    tm=list(it.product(alphabet,repeat=len(unknown)))\n",
    "    for i in range (0,len(tm)):\n",
    "        for ch in range (0,len(unknown)):\n",
    "            string[unknown[ch]]=tm[i][ch]    \n",
    "        probs.append(calc_prob(string))     \n",
    "\n",
    "    #print(tm)\n",
    "    probs=np.array(probs)        \n",
    "    probs /= probs.sum()\n",
    "    probs=list(probs)\n",
    "    #print(probs)\n",
    "    final=np.random.choice(np.arange(0,27**len(unknown)),p=probs)              \n",
    "    final2=probs.index(np.max(probs))\n",
    "\n",
    "    print(tm[final])    \n",
    "    print(tm[final2])                 \n",
    "    print(np.log2(np.max(probs)))    \n",
    "\n",
    "    \n",
    "fill_letters(list(strings[0]))\n"
   ]
  },
  {
   "cell_type": "code",
   "execution_count": 110,
   "metadata": {
    "collapsed": false
   },
   "outputs": [
    {
     "name": "stdout",
     "output_type": "stream",
     "text": [
      "[2, 3, 4, 7, 8, 9, 12, 13, 14, 15, 16, 19, 20, 22, 23, 24, 26, 27]\n",
      "[[2, 3, 4], [7, 8, 9], [12, 13, 14, 15, 16], [19, 20], [22, 23, 24], [26, 27]]\n",
      "('u', '.', 'y')\n",
      "('b', 'o', 'n')\n",
      "('h', 'e', 'r', 'e', 'i')\n",
      "('b', 'o')\n",
      "('s', 't', '.')\n",
      "('a', 's')\n"
     ]
    }
   ],
   "source": [
    "import itertools as it\n",
    "strings = ['.ans_er','th__br__n.f_x..', '._u_st__n_.to_be._nsw_r__.',\n",
    "           '.i__at_._a_h_n_._e_r_i_g.',\n",
    "           '.q___t.___z._____t.__.___.__..']\n",
    "\n",
    "string=strings[4]\n",
    "string+='.'\n",
    "unknown=[]\n",
    "sum_terms=[]\n",
    "N=len(string)\n",
    "for ch in range (0,N):\n",
    "        current=string[ch]\n",
    "        if current=='?' or current=='_':\n",
    "            unknown.append(ch)\n",
    "print(unknown)\n",
    "for i in range(0,len(unknown)):\n",
    "    temp=[]\n",
    "    if i==0:\n",
    "        temp.append(unknown[i])\n",
    "        sum_terms.append(temp)\n",
    "    elif unknown[i]-unknown[i-1]==1:\n",
    "        sum_terms[len(sum_terms)-1].append(unknown[i])\n",
    "    else :\n",
    "        temp.append(unknown[i])\n",
    "        sum_terms.append(temp)\n",
    "\n",
    "sum_terms_probs=[]     \n",
    "print(sum_terms)            \n",
    "sum=0\n",
    "for i in range(0,len(sum_terms)):\n",
    "        tm=list(it.product(alphabet,repeat=len(sum_terms[i])))\n",
    "        tm_probs=[]\n",
    "        prev=string[sum_terms[i][0]-1]\n",
    "        nexti=string[sum_terms[i][len(sum_terms[i])-1]+1]\n",
    "        previd=letter2idx[prev]\n",
    "        nextid=letter2idx[nexti]\n",
    "        for est in range(0,len(tm)):\n",
    "            val=1\n",
    "            firstid=letter2idx[tm[est][0]]\n",
    "            lastid=letter2idx[tm[est][len(tm[est])-1]]\n",
    "            for est2 in range(1,len(tm[est])):\n",
    "                id1=letter2idx[tm[est][est2-1]]\n",
    "                id2=letter2idx[tm[est][est2]]   \n",
    "                val*=float(T[id1][id2])\n",
    "            val*=float(T[previd][firstid])*float(T[lastid][nextid])\n",
    "            tm_probs.append(val) \n",
    "        tm_probs=np.array(tm_probs)\n",
    "        tm_probs/=tm_probs.sum()\n",
    "        tm_probs=list(tm_probs)\n",
    "        final=np.random.choice(np.arange(0,27**len(sum_terms[i])),p=tm_probs)\n",
    "        tm_probs=[]\n",
    "        print(tm[final])\n",
    "\n",
    "                \n",
    "\n"
   ]
  },
  {
   "cell_type": "code",
   "execution_count": null,
   "metadata": {
    "collapsed": true
   },
   "outputs": [],
   "source": []
  },
  {
   "cell_type": "code",
   "execution_count": null,
   "metadata": {
    "collapsed": true
   },
   "outputs": [],
   "source": []
  }
 ],
 "metadata": {
  "kernelspec": {
   "display_name": "Python 3",
   "language": "python",
   "name": "python3"
  },
  "language_info": {
   "codemirror_mode": {
    "name": "ipython",
    "version": 3
   },
   "file_extension": ".py",
   "mimetype": "text/x-python",
   "name": "python",
   "nbconvert_exporter": "python",
   "pygments_lexer": "ipython3",
   "version": "3.6.0"
  }
 },
 "nbformat": 4,
 "nbformat_minor": 2
}
