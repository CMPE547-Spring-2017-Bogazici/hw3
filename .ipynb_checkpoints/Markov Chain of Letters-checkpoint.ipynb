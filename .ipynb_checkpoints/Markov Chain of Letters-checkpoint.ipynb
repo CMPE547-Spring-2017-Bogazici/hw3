{
 "cells": [
  {
   "cell_type": "markdown",
   "metadata": {
    "deletable": true,
    "editable": true
   },
   "source": [
    "Name: Mert Tiftikci\n",
    "\n",
    "I hereby declare that I observed the honour code of the university when preparing the homework."
   ]
  },
  {
   "cell_type": "markdown",
   "metadata": {
    "deletable": true,
    "editable": true
   },
   "source": [
    "## Solution to 16.3-5 and 18"
   ]
  },
  {
   "cell_type": "markdown",
   "metadata": {},
   "source": [
    "## Q16\n",
    "### 3)\n",
    "\n",
    "|$s_t$|$s_{t-1}$||$y_t$|$s_t$| \n",
    "|:---:|:---:||:---:|:---:|\n",
    "|$s_t$=$s_{t-1}$|$p$||$y_t$=$s_t$|$p$| \n",
    "|$s_t$=$r$|1-$p$||$y_t$=$r$|1-$p$|"
   ]
  },
  {
   "cell_type": "code",
   "execution_count": 159,
   "metadata": {
    "collapsed": false
   },
   "outputs": [
    {
     "data": {
      "image/png": "[encoded data removed]",
      "text/plain": [
       "<matplotlib.figure.Figure at 0x1135c4780>"
      ]
     },
     "metadata": {},
     "output_type": "display_data"
    }
   ],
   "source": [
    "%matplotlib inline\n",
    "\n",
    "import networkx as nx\n",
    "import matplotlib.pyplot as plt\n",
    "\n",
    "G = nx.DiGraph()\n",
    "G.add_nodes_from(['S1', 'S2', 'S3', 'Y1', 'Y2', 'Y3'])\n",
    "G.add_edges_from([('S1', 'S2'),('S2', 'S3')])\n",
    "G.add_edges_from([('S1', 'Y1'),('S2', 'Y2'),('S3', 'Y3')])\n",
    "\n",
    "layout = {'S1': [0., 1.],\n",
    "          'Y1': [0., 0.],\n",
    "          'S2': [1., 1.],\n",
    "          'Y2': [1., 0.],\n",
    "          'S3': [2., 1.],\n",
    "          'Y3': [2., 0.]}\n",
    "nx.draw_networkx(G, pos=layout, node_color='w', node_size=600, font_size=20)\n",
    "limits=plt.axis('off')\n",
    "plt.show()"
   ]
  },
  {
   "cell_type": "markdown",
   "metadata": {},
   "source": [
    "### 4)\n",
    "\n",
    "|$y_t$        |$y_{t-1}$|$y_{t-1}$=e|\n",
    "|:-----------:|:-------:|:---------:|\n",
    "|$y_t$=a      |  1-$p$  |   1-$p$   |\n",
    "|$y_t$=e      |    0    |    $p$    |\n",
    "|$y_t$=$y_t$+1|   $p$   |     0     |"
   ]
  },
  {
   "cell_type": "code",
   "execution_count": 160,
   "metadata": {
    "collapsed": false
   },
   "outputs": [
    {
     "data": {
      "image/png": "[encoded data removed]",
      "text/plain": [
       "<matplotlib.figure.Figure at 0x1134cde48>"
      ]
     },
     "metadata": {},
     "output_type": "display_data"
    }
   ],
   "source": [
    "G = nx.DiGraph()\n",
    "G.add_nodes_from(['Y1', 'Y2', 'Y3'])\n",
    "G.add_edges_from([('Y1', 'Y2'),('Y2', 'Y3')])\n",
    "\n",
    "layout = {'Y1': [0., 0.],\n",
    "          'Y2': [1., 0.],\n",
    "          'Y3': [2., 0.]}\n",
    "nx.draw_networkx(G, pos=layout, node_color='w', node_size=600, font_size=20)\n",
    "limits=plt.axis('off')\n",
    "plt.show()"
   ]
  },
  {
   "cell_type": "markdown",
   "metadata": {},
   "source": [
    "### 5)\n",
    "\n",
    "|    $y_t$     |$y_{t-1}$=111|$y_{t-1}$=000|$y_{t-1}$=1111|$y_{t-1}$=0000|\n",
    "|:------------:|:-----------:|:-----------:|:------------:|:------------:|\n",
    "|$y_{t-1}$=111 |      0      |     $p$     |      0       |     1-$p$    |\n",
    "|$y_{t-1}$=000 |     $p$     |      0      |    1-$p$     |       0      |\n",
    "|$y_{t-1}$=1111|      0      |    1-$p$    |      0       |     1-$p$    |\n",
    "|$y_{t-1}$=0000|    1-$p$    |      0      |     $p$      |       0      |"
   ]
  },
  {
   "cell_type": "code",
   "execution_count": 162,
   "metadata": {
    "collapsed": false
   },
   "outputs": [
    {
     "data": {
      "image/png": "[encoded data removed]",
      "text/plain": [
       "<matplotlib.figure.Figure at 0x11357d4e0>"
      ]
     },
     "metadata": {},
     "output_type": "display_data"
    }
   ],
   "source": [
    "nx.draw_networkx(G, pos=layout, node_color='w', node_size=600, font_size=20)\n",
    "limits=plt.axis('off')\n",
    "plt.show()"
   ]
  },
  {
   "cell_type": "markdown",
   "metadata": {},
   "source": [
    "## Q18\n",
    "### Directed Graph"
   ]
  },
  {
   "cell_type": "code",
   "execution_count": 145,
   "metadata": {
    "collapsed": false
   },
   "outputs": [
    {
     "data": {
      "image/png": "[encoded data removed]",
      "text/plain": [
       "<matplotlib.figure.Figure at 0x11371b7f0>"
      ]
     },
     "metadata": {},
     "output_type": "display_data"
    }
   ],
   "source": [
    "import networkx as nx\n",
    "import matplotlib.pyplot as plt\n",
    "\n",
    "G = nx.DiGraph()\n",
    "G.add_nodes_from(\"AMTLBFDX\")\n",
    "G.add_edges_from([('A','T'),('T','F'),('M','L'),('M','B'),('L','F'),('B','D'),('F','D'),('F','X')])\n",
    "\n",
    "layout = {'L': [2., 2.],\n",
    "          'D': [3., 1.],\n",
    "          'B': [3., 2.],\n",
    "          'A': [0., 3.],\n",
    "          'F': [1., 1.],\n",
    "          'M': [3., 3.],\n",
    "          'X': [1., 0.],\n",
    "          'T': [0., 2.]}\n",
    "nx.draw_networkx(G, pos=layout, node_color='w', font_size=20)\n",
    "limits=plt.axis('off')\n",
    "plt.show()"
   ]
  },
  {
   "cell_type": "markdown",
   "metadata": {},
   "source": [
    "### Undirected Graph"
   ]
  },
  {
   "cell_type": "code",
   "execution_count": 146,
   "metadata": {
    "collapsed": false,
    "scrolled": true
   },
   "outputs": [
    {
     "data": {
      "image/png": "[encoded data removed]",
      "text/plain": [
       "<matplotlib.figure.Figure at 0x112ca6208>"
      ]
     },
     "metadata": {},
     "output_type": "display_data"
    }
   ],
   "source": [
    "G = nx.Graph(G)\n",
    "G.add_edge('F', 'B')\n",
    "nx.draw_networkx(G, pos=layout, node_color='w', node_shape='o', font_size=20)\n",
    "limits=plt.axis('off')\n",
    "plt.show()"
   ]
  },
  {
   "cell_type": "markdown",
   "metadata": {},
   "source": [
    "### Factor Graph"
   ]
  },
  {
   "cell_type": "code",
   "execution_count": 156,
   "metadata": {
    "collapsed": false
   },
   "outputs": [
    {
     "name": "stderr",
     "output_type": "stream",
     "text": [
      "/usr/local/lib/python3.5/site-packages/networkx/drawing/nx_pylab.py:126: MatplotlibDeprecationWarning: pyplot.hold is deprecated.\n",
      "    Future behavior will be consistent with the long-time default:\n",
      "    plot commands add elements without first clearing the\n",
      "    Axes and/or Figure.\n",
      "  b = plt.ishold()\n",
      "/usr/local/lib/python3.5/site-packages/networkx/drawing/nx_pylab.py:138: MatplotlibDeprecationWarning: pyplot.hold is deprecated.\n",
      "    Future behavior will be consistent with the long-time default:\n",
      "    plot commands add elements without first clearing the\n",
      "    Axes and/or Figure.\n",
      "  plt.hold(b)\n",
      "/usr/local/lib/python3.5/site-packages/matplotlib/__init__.py:917: UserWarning: axes.hold is deprecated. Please remove it from your matplotlibrc and/or style files.\n",
      "  warnings.warn(self.msg_depr_set % key)\n",
      "/usr/local/lib/python3.5/site-packages/matplotlib/rcsetup.py:152: UserWarning: axes.hold is deprecated, will be removed in 3.0\n",
      "  warnings.warn(\"axes.hold is deprecated, will be removed in 3.0\")\n"
     ]
    },
    {
     "data": {
      "image/png": "[encoded data removed]",
      "text/plain": [
       "<matplotlib.figure.Figure at 0x1130d8940>"
      ]
     },
     "metadata": {},
     "output_type": "display_data"
    }
   ],
   "source": [
    "G = nx.Graph()\n",
    "# nodes\n",
    "G.add_nodes_from(\"AMTLBFDX\")\n",
    "# factors\n",
    "G.add_nodes_from([i for i in range(1, 13)])\n",
    "\n",
    "G.add_edges_from([(1,'A'),('A',2),(2,'T'),('T',3),(3,'L'),('T',4),(4,'F'),('F',5),(5,'X')])\n",
    "G.add_edges_from([('L',6),(6,'F'),('F',7),(7,'D'),('F',8),(8,'B'),('B',9),(9,'D')])\n",
    "G.add_edges_from([('M',10),(10,'L'),('M',11),(11,'B'),(12,'M')])\n",
    "\n",
    "layout = {'L': [2., 2.],\n",
    "          'D': [3., 1.],\n",
    "          'B': [3., 2.],\n",
    "          'A': [0., 3.],\n",
    "          'F': [1., 1.],\n",
    "          'M': [3., 3.],\n",
    "          'X': [1., 0.],\n",
    "          'T': [0., 2.],\n",
    "          1: [0., 3.5], 2: [0., 2.5], 3: [1., 2.], 4: [0.5, 1.5],\n",
    "          5: [1., 0.5], 6: [1.5, 1.5], 7: [1.5, 0.5], 8: [2., 1.5],\n",
    "          9: [3., 1.5], 10: [2.5, 2.5], 11: [3., 2.5], 12: [3., 3.5]}\n",
    "\n",
    "\n",
    "GFactors = nx.Graph()\n",
    "GFactors.add_nodes_from([i for i in range(1, 13)])\n",
    "factor_layout = {1: [0., 3.5], 2: [0., 2.5], 3: [1., 2.], 4: [0.5, 1.5],\n",
    "          5: [1., 0.5], 6: [1.5, 1.5], 7: [1.5, 0.5], 8: [2., 1.5],\n",
    "          9: [3., 1.5], 10: [2.5, 2.5], 11: [3., 2.5], 12: [3., 3.5]}\n",
    "\n",
    "nx.draw(G, pos=layout, node_color='w')\n",
    "nx.draw_networkx_labels(G, pos=layout)\n",
    "nx.draw_networkx_nodes(GFactors, pos=factor_layout, node_size=200, node_shape='s', node_color='k')\n",
    "limits=plt.axis('off')\n",
    "plt.show()"
   ]
  },
  {
   "cell_type": "markdown",
   "metadata": {},
   "source": [
    "### Parameter Count\n",
    "\n",
    "$(N - 1) + (N - 1) + (N - 1) + (N - 1) + (N - 1) + ((N - 1)*N) + ((N - 1)*N) + ((N - 1)*N^2)$"
   ]
  },
  {
   "cell_type": "markdown",
   "metadata": {},
   "source": [
    "### D-Separation\n",
    "\n",
    "\n",
    "1. **true** : There is no path from A -> M, F is blocking with head-to-head\n",
    "2. **false**: X is given which is the descendant of F, there is a path A -> M\n",
    "3. **false**: Similar to second one, head-to-head connection is open\n",
    "4. **true** : F is head-to-tail and given which blocks the way\n",
    "5. **false**: F is not given so only head-to-tail connection exists"
   ]
  },
  {
   "cell_type": "markdown",
   "metadata": {
    "deletable": true,
    "editable": true
   },
   "source": [
    "## Pr?gr?mm?ng?H?m?w?rk 3\n",
    "\n",
    "In this exercise we model a string of text using a Markov(1) model. For simplicity we only consider letters 'a-z'. Capital letters 'A-Z' are mapped to the corresponding ones. All remaining letters, symbols, numbers, including spaces, are denoted by '.'.\n",
    "\n",
    "\n",
    "We have a probability table $T$ where $T_{i,j} = p(x_t = j | x_{t-1} = i)$  transition model of letters in English text for $t=1,2 \\dots N$. Assume that the initial letter in a string is always a space denoted as $x_0 = \\text{'.'}$. Such a model where the probability table is always the same is sometimes called a stationary model.\n",
    "\n",
    "1. For a given $N$, write a program to sample random strings with letters $x_1, x_2, \\dots, x_N$ from $p(x_{1:N}|x_0)$\n",
    "1. Now suppose you are given strings with missing letters, where each missing letter is denoted by a question mark (or underscore, as below). Implement a method, that samples missing letters conditioned on observed ones, i.e., samples from $p(x_{-\\alpha}|x_{\\alpha})$ where $\\alpha$ denotes indices of observed letters. For example, if the input is 't??.', we have $N=4$ and\n",
    "$x_1 = \\text{'t'}$ and $x_4 = \\text{'.'}$, $\\alpha=\\{1,4\\}$ and $-\\alpha=\\{2,3\\}$. Your program may possibly generate the strings 'the.', 'twi.', 'tee.', etc. Hint: make sure to make use all data given and sample from the correct distribution. Implement the method and print the results for the test strings below. \n",
    "1. Describe a method for filling in the gaps by estimating the most likely letter for each position. Hint: you need to compute\n",
    "$$\n",
    "x_{-\\alpha}^* = \\arg\\max_{x_{-\\alpha}} p(x_{-\\alpha}|x_{\\alpha})\n",
    "$$\n",
    "Implement the method and print the results for the following test strings along with the log-probability  $\\log p(x_{-\\alpha}^*,x_{\\alpha})$.\n",
    "1. Discuss how you can improve the model to get better estimations."
   ]
  },
  {
   "cell_type": "code",
   "execution_count": 81,
   "metadata": {
    "collapsed": true,
    "deletable": true,
    "editable": true
   },
   "outputs": [],
   "source": [
    "test_strings = ['th__br__n.f_x.', '_u_st__n_.to_be._nsw_r__','i__at_._a_h_n_._e_r_i_g','q___t.___z._____t.__.___.__.']"
   ]
  },
  {
   "cell_type": "markdown",
   "metadata": {
    "deletable": true,
    "editable": true
   },
   "source": [
    "Hint: The code below loads a table of transition probabilities for English text."
   ]
  },
  {
   "cell_type": "code",
   "execution_count": 1,
   "metadata": {
    "collapsed": false,
    "deletable": true,
    "editable": true,
    "scrolled": false
   },
   "outputs": [
    {
     "name": "stdout",
     "output_type": "stream",
     "text": [
      "Example\n"
     ]
    },
    {
     "data": {
      "text/latex": [
       "$p(x_t = \\text{'u'} | x_{t-1} = \\text{'q'})$"
      ],
      "text/plain": [
       "<IPython.core.display.Latex object>"
      ]
     },
     "metadata": {},
     "output_type": "display_data"
    },
    {
     "name": "stdout",
     "output_type": "stream",
     "text": [
      "0.9949749\n"
     ]
    },
    {
     "data": {
      "text/latex": [
       "$p(x_t | x_{t-1} = \\text{'a'})$"
      ],
      "text/plain": [
       "<IPython.core.display.Latex object>"
      ]
     },
     "metadata": {},
     "output_type": "display_data"
    },
    {
     "name": "stdout",
     "output_type": "stream",
     "text": [
      "a 0.0002835\n",
      "b 0.0228302\n",
      "c 0.0369041\n",
      "d 0.0426290\n",
      "e 0.0012216\n",
      "f 0.0075739\n",
      "g 0.0171385\n",
      "h 0.0014659\n",
      "i 0.0372661\n",
      "j 0.0002353\n",
      "k 0.0110124\n",
      "l 0.0778259\n",
      "m 0.0260757\n",
      "n 0.2145354\n",
      "o 0.0005459\n",
      "p 0.0195213\n",
      "q 0.0001749\n",
      "r 0.1104770\n",
      "s 0.0934290\n",
      "t 0.1317960\n",
      "u 0.0098029\n",
      "v 0.0306574\n",
      "w 0.0088799\n",
      "x 0.0009562\n",
      "y 0.0233701\n",
      "z 0.0018701\n",
      ". 0.0715219\n"
     ]
    }
   ],
   "source": [
    "import csv\n",
    "from IPython.display import display, Latex\n",
    "\n",
    "alphabet = [chr(i+ord('a')) for i in range(26)]\n",
    "alphabet.append('.')\n",
    "letter2idx = {c:i for i,c in enumerate(alphabet)}\n",
    "\n",
    "T = []\n",
    "with open('transitions.csv') as csvfile:\n",
    "    reader = csv.reader(csvfile, delimiter=',')\n",
    "    for row in reader:\n",
    "        T.append(row)\n",
    "\n",
    "print('Example')\n",
    "## p(x_t = 'u' | x_{t-1} = 'q')\n",
    "display(Latex(r\"$p(x_t = \\text{'u'} | x_{t-1} = \\text{'q'})$\"))\n",
    "print(T[letter2idx['q']][letter2idx['u']])\n",
    "display(Latex(r\"$p(x_t | x_{t-1} = \\text{'a'})$\"))\n",
    "for c,p in zip(alphabet,T[letter2idx['a']]):\n",
    "    print(c,p)"
   ]
  },
  {
   "cell_type": "code",
   "execution_count": 44,
   "metadata": {
    "collapsed": false
   },
   "outputs": [],
   "source": [
    "import string\n",
    "\n",
    "alphabet = list(string.ascii_lowercase)\n",
    "alphabet.append('.')\n",
    "transition = {}\n",
    "for indx1, prob in enumerate(alphabet):\n",
    "    letter = {}\n",
    "    for indx2, given in enumerate(alphabet):\n",
    "        letter[given] = float(T[indx1][indx2])\n",
    "    transition[prob] = letter\n",
    "# transition['q']['u'] = 0.9949749 -> p(x_t = 'u' | x_{t-1} = 'q')"
   ]
  },
  {
   "cell_type": "code",
   "execution_count": 99,
   "metadata": {
    "collapsed": false
   },
   "outputs": [
    {
     "data": {
      "text/plain": [
       "'the.the.tfffffffffffffffffffffffffffffffffffffffffffffffffffffffffffffffffffffffffffffffffffffffffff'"
      ]
     },
     "execution_count": 99,
     "metadata": {},
     "output_type": "execute_result"
    }
   ],
   "source": [
    "import numpy as np\n",
    "\n",
    "def generate_string(transition, N):\n",
    "    alphabet = list(transition.keys())\n",
    "    # initial character is always '.'\n",
    "    string = \".\"\n",
    "    # hence prior is 1\n",
    "    prob = 1.\n",
    "    for i in range(1, N + 1):\n",
    "        letter_probs = np.array(list(transition[string[i-1]].values())) * prob\n",
    "        chosen = np.argmax(letter_probs)\n",
    "        string += alphabet[chosen]\n",
    "        prob *= letter_probs[chosen]\n",
    "    return string[1:]\n",
    "a = generate_string(transition, 100)\n",
    "a"
   ]
  },
  {
   "cell_type": "code",
   "execution_count": 95,
   "metadata": {
    "collapsed": false
   },
   "outputs": [
    {
     "data": {
      "text/plain": [
       "'i  at . a h n . e r i g'"
      ]
     },
     "execution_count": 95,
     "metadata": {},
     "output_type": "execute_result"
    }
   ],
   "source": [
    "def complete_string(transition, given_string):\n",
    "    prob = 1.\n",
    "    missing = list(given_string)\n",
    "    for indx, letter in enumerate(missing):\n",
    "        if letter == '_':\n",
    "            missing[indx] = \" \"\n",
    "        else:\n",
    "            prob = 1.\n",
    "    return ''.join(missing)\n",
    "\n",
    "complete_string(transition, np.random.choice(test_strings, 1)[0])"
   ]
  }
 ],
 "metadata": {
  "kernelspec": {
   "display_name": "Python 3",
   "language": "python",
   "name": "python3"
  },
  "language_info": {
   "codemirror_mode": {
    "name": "ipython",
    "version": 3
   },
   "file_extension": ".py",
   "mimetype": "text/x-python",
   "name": "python",
   "nbconvert_exporter": "python",
   "pygments_lexer": "ipython3",
   "version": "3.5.1"
  }
 },
 "nbformat": 4,
 "nbformat_minor": 0
}
