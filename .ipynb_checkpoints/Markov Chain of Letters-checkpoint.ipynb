{
 "cells": [
  {
   "cell_type": "markdown",
   "metadata": {
    "deletable": true,
    "editable": true
   },
   "source": [
    "Name: Melih Degis\n",
    "\n",
    "I hereby declare that I observed the honour code of the university when preparing the homework."
   ]
  },
  {
   "cell_type": "markdown",
   "metadata": {
    "deletable": true,
    "editable": true
   },
   "source": [
    "## Pr?gr?mm?ng?H?m?w?rk 3\n",
    "\n",
    "For more documented and tested version please see raw python file called `programming_homework.py` in the root of this repository.\n",
    "\n",
    "In this exercise we model a string of text using a Markov(1) model. For simplicity we only consider letters 'a-z'. Capital letters 'A-Z' are mapped to the corresponding ones. All remaining letters, symbols, numbers, including spaces, are denoted by '.'.\n",
    "\n",
    "\n",
    "We have a probability table $T$ where $T_{i,j} = p(x_t = j | x_{t-1} = i)$  transition model of letters in English text for $t=1,2 \\dots N$. Assume that the initial letter in a string is always a space denoted as $x_0 = \\text{'.'}$. Such a model where the probability table is always the same is sometimes called a stationary model.\n",
    "\n",
    "1.For a given $N$, write a program to sample random strings with letters $x_1, x_2, \\dots, x_N$ from $p(x_{1:N}|x_0)$\n"
   ]
  },
  {
   "cell_type": "code",
   "execution_count": 51,
   "metadata": {
    "collapsed": true
   },
   "outputs": [],
   "source": [
    "import csv\n",
    "import numpy as np\n",
    "\n",
    "alphabet = [chr(i + ord('a')) for i in range(26)]\n",
    "alphabet.append('.')\n",
    "letter_ids = {c: i for i, c in enumerate(alphabet)}\n",
    "\n",
    "with open('transitions.csv') as csvfile:\n",
    "    reader = csv.reader(csvfile, delimiter=',')\n",
    "    transitions = [row for row in reader]\n",
    "    \n",
    "def get_probability(current, normalize=True):\n",
    "    l = [float(i) for i in transitions[letter_ids[current]]]\n",
    "    # sum of probabilities needs to be 1\n",
    "    return [float(i) / sum(l) for i in l] if normalize else l\n"
   ]
  },
  {
   "cell_type": "markdown",
   "metadata": {},
   "source": [
    "Let's check if the function working properly with given example:"
   ]
  },
  {
   "cell_type": "code",
   "execution_count": 2,
   "metadata": {
    "collapsed": false
   },
   "outputs": [
    {
     "name": "stdout",
     "output_type": "stream",
     "text": [
      "True\n"
     ]
    }
   ],
   "source": [
    "print(str(get_probability('q', False)[letter_ids['u']]) == '0.9949749')"
   ]
  },
  {
   "cell_type": "code",
   "execution_count": 14,
   "metadata": {
    "collapsed": false
   },
   "outputs": [],
   "source": [
    "def sample_random_string(n):\n",
    "    current_char, random_string = '.', ''\n",
    "    for i in xrange(n):\n",
    "        probabilities = get_probability(current_char)\n",
    "        current_char = np.random.choice(\n",
    "            alphabet, p=probabilities)\n",
    "        random_string += current_char\n",
    "    return random_string"
   ]
  },
  {
   "cell_type": "markdown",
   "metadata": {},
   "source": [
    "Now generate some random strings with random length:"
   ]
  },
  {
   "cell_type": "code",
   "execution_count": 47,
   "metadata": {
    "collapsed": false
   },
   "outputs": [
    {
     "name": "stdout",
     "output_type": "stream",
     "text": [
      "length: 7, text: m.aice.\n",
      "length: 8, text: herorr.o\n",
      "length: 3, text: ora\n",
      "length: 2, text: bb\n",
      "length: 8, text: bes.nsto\n",
      "length: 1, text: r\n",
      "length: 4, text: than\n",
      "length: 6, text: .wa.it\n",
      "length: 9, text: olco.ineg\n",
      "length: 3, text: the\n"
     ]
    }
   ],
   "source": [
    "for i in np.random.randint(low=1, high=10, size=10):\n",
    "    print('length: {}, text: {}'.format(i, sample_random_string(i)))"
   ]
  },
  {
   "cell_type": "markdown",
   "metadata": {},
   "source": [
    "2.Now suppose you are given strings with missing letters, where each missing letter is denoted by a question mark (or underscore, as below). Implement a method, that samples missing letters conditioned on observed ones, i.e., samples from $p(x_{-\\alpha}|x_{\\alpha})$ where $\\alpha$ denotes indices of observed letters. For example, if the input is 't??.', we have $N=4$ and\n",
    "$x_1 = \\text{'t'}$ and $x_4 = \\text{'.'}$, $\\alpha=\\{1,4\\}$ and $-\\alpha=\\{2,3\\}$. Your program may possibly generate the strings 'the.', 'twi.', 'tee.', etc. Hint: make sure to make use all data given and sample from the correct distribution.\n"
   ]
  },
  {
   "cell_type": "code",
   "execution_count": 49,
   "metadata": {
    "collapsed": true
   },
   "outputs": [],
   "source": [
    "def string_guess(string):\n",
    "    missing_indices = [pos for pos, char in enumerate(string) if char == '_']\n",
    "    string = list(string)\n",
    "    for i in missing_indices:\n",
    "        prev_char = string[i-1] if i > 0 else '.'\n",
    "        probabilities = get_probability(prev_char)\n",
    "        string[i] = np.random.choice(\n",
    "            alphabet, p=probabilities)\n",
    "    return ''.join(string)"
   ]
  },
  {
   "cell_type": "markdown",
   "metadata": {},
   "source": [
    "Implement the method and print the results for the test strings below:"
   ]
  },
  {
   "cell_type": "code",
   "execution_count": 57,
   "metadata": {
    "collapsed": true
   },
   "outputs": [],
   "source": [
    "def display_string_guess(l_params, times):\n",
    "    for param in l_params:\n",
    "        for t in range(1, times+1):\n",
    "            print('\"{}\" string, try number {:>2}: \"{}\"'.format(\n",
    "                param, t, string_guess(param)))"
   ]
  },
  {
   "cell_type": "markdown",
   "metadata": {},
   "source": [
    "Now, let's test with first input 't__' 10 times, possible generated strings are 'the.', 'twi.', 'tee.' etc."
   ]
  },
  {
   "cell_type": "code",
   "execution_count": 58,
   "metadata": {
    "collapsed": false
   },
   "outputs": [
    {
     "name": "stdout",
     "output_type": "stream",
     "text": [
      "\"t__.\" string, try number  1: \"the.\"\n",
      "\"t__.\" string, try number  2: \"t.f.\"\n",
      "\"t__.\" string, try number  3: \"tht.\"\n",
      "\"t__.\" string, try number  4: \"thi.\"\n",
      "\"t__.\" string, try number  5: \"tea.\"\n",
      "\"t__.\" string, try number  6: \"tea.\"\n",
      "\"t__.\" string, try number  7: \"te..\"\n",
      "\"t__.\" string, try number  8: \"tas.\"\n",
      "\"t__.\" string, try number  9: \"t.w.\"\n",
      "\"t__.\" string, try number 10: \"tey.\"\n"
     ]
    }
   ],
   "source": [
    "display_string_guess(['t__.'], 10)"
   ]
  },
  {
   "cell_type": "markdown",
   "metadata": {},
   "source": [
    "Everything looks good for 't__.', now we can test it with all test_string(for simplicity, only 3 results will be printed here):"
   ]
  },
  {
   "cell_type": "code",
   "execution_count": 66,
   "metadata": {
    "collapsed": false,
    "deletable": true,
    "editable": true
   },
   "outputs": [
    {
     "name": "stdout",
     "output_type": "stream",
     "text": [
      "\"th__br__n.f_x.\" string, try number  1: \"the.brann.f.x.\"\n",
      "\"th__br__n.f_x.\" string, try number  2: \"the.brstn.f.x.\"\n",
      "\"th__br__n.f_x.\" string, try number  3: \"the.bravn.f.x.\"\n",
      "\"_u_st__n_.to_be._nsw_r__\" string, try number  1: \".ulstheng.toube.hnsw.rbr\"\n",
      "\"_u_st__n_.to_be._nsw_r__\" string, try number  2: \"tutstern..tofbe.gnsweron\"\n",
      "\"_u_st__n_.to_be._nsw_r__\" string, try number  3: \"murstrrno.toube.dnswer.i\"\n",
      "\"i__at_._a_h_n_._e_r_i_g\" string, try number  1: \"ingat..eamhing.ielrlifg\"\n",
      "\"i__at_._a_h_n_._e_r_i_g\" string, try number  2: \"il.ath.tathens.fecrnizg\"\n",
      "\"i__at_._a_h_n_._e_r_i_g\" string, try number  3: \"it.ath.mathen..ae.rditg\"\n",
      "\"q___t.___z._____t.__.___.__.\" string, try number  1: \"qubet.lofz.suritt..i.tsh.mo.\"\n",
      "\"q___t.___z._____t.__.___.__.\" string, try number  2: \"qundt.of.z.en.het.in.ndw.of.\"\n",
      "\"q___t.___z._____t.__.___.__.\" string, try number  3: \"qulit.atrz.od.het.hi.e.f.st.\"\n"
     ]
    }
   ],
   "source": [
    "test_strings = ['th__br__n.f_x.', '_u_st__n_.to_be._nsw_r__','i__at_._a_h_n_._e_r_i_g','q___t.___z._____t.__.___.__.']\n",
    "display_string_guess(test_strings, 3)"
   ]
  },
  {
   "cell_type": "markdown",
   "metadata": {},
   "source": [
    "3.Describe a method for filling in the gaps by estimating the most likely letter for each position. Hint: you need to compute\n",
    "$$\n",
    "x_{-\\alpha}^* = \\arg\\max_{x_{-\\alpha}} p(x_{-\\alpha}|x_{\\alpha})\n",
    "$$\n",
    "Implement the method and print the results for the following test strings along with the log-probability  $\\log p(x_{-\\alpha}^*,x_{\\alpha})$."
   ]
  },
  {
   "cell_type": "markdown",
   "metadata": {},
   "source": [
    "4.Discuss how you can improve the model to get better estimations."
   ]
  },
  {
   "cell_type": "markdown",
   "metadata": {},
   "source": [
    "In this implementation, I only care about the previous character. To make some improvements, some kind of look-ahead functionality can be added."
   ]
  }
 ],
 "metadata": {
  "kernelspec": {
   "display_name": "Python 2",
   "language": "python",
   "name": "python2"
  },
  "language_info": {
   "codemirror_mode": {
    "name": "ipython",
    "version": 2
   },
   "file_extension": ".py",
   "mimetype": "text/x-python",
   "name": "python",
   "nbconvert_exporter": "python",
   "pygments_lexer": "ipython2",
   "version": "2.7.12"
  }
 },
 "nbformat": 4,
 "nbformat_minor": 0
}
