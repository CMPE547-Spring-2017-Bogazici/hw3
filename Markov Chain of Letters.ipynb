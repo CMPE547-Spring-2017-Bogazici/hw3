{
 "cells": [
  {
   "cell_type": "markdown",
   "metadata": {},
   "source": [
    "Name: Ahmet Çağrı Düzgün\n",
    "\n",
    "I hereby declare that I observed the honour code of the university when preparing the homework."
   ]
  },
  {
   "cell_type": "markdown",
   "metadata": {},
   "source": [
    "## Solution to 16.3-5 and 18"
   ]
  },
  {
   "cell_type": "markdown",
   "metadata": {
    "collapsed": false
   },
   "source": [
    "#### 16.3\n",
    "\n",
    "Clearly, a variable depends on the variable which comes just before it.A variable is mostly the same as the one coming just before it. Based on my observations, a change can occur in two ways. First, Trend can be changed which we can reflect with a change in $S_{t}=b$. Or a noise can occur without changing the trend when $x_{t}=b$. Hence, I can suggest the following model\n",
    "<img src=\"files/Q1.PNG\">"
   ]
  },
  {
   "cell_type": "markdown",
   "metadata": {},
   "source": [
    "#### 16.4\n",
    "Based on the observation from the data, I can suggest the following model:\n",
    "<img src=\"files/Q2.PNG\">"
   ]
  },
  {
   "cell_type": "markdown",
   "metadata": {},
   "source": [
    "#### 16.5 \n",
    "Even though a complicated model could be better, the following model also works:\n",
    "\n",
    "<img src=\"files/Q3.PNG\">"
   ]
  },
  {
   "cell_type": "markdown",
   "metadata": {},
   "source": [
    "#### 18.1  \n",
    "<img src=\"files/D.PNG\">\n",
    "\n",
    "#### 18.2  \n",
    "<img src=\"files/G.PNG\">\n",
    "<img src=\"files/F.PNG\">\n",
    "\n",
    "#### 18.3 \n",
    "We can compute each term one by one and sum them up:\n",
    "$N^2(N-1) + N + +N(N-1) + N^2(N-1) + N = 2(N+1)^2(N-1)$\n",
    "\n",
    "#### 18.4 \n",
    "\n",
    "a)The statement is true. That is because there are two paths we can go from A to M. In A-T-F-L-M, F blocks the path. In A-T-F-D-B-M, D blocks the path\n",
    "\n",
    "b)The statement is false. Given X, we have knowledge of F. Hence, A-T-F-L-M is open now. \n",
    "\n",
    "c)The statement is false. Given X, we have knowledge of F as it is in the previous question. \n",
    "\n",
    "d) The statement is true. Not given F, the statement is false. But, given F, The path from X to F is unlocked. Hence, they are conditionally independent.\n",
    "\n",
    "e)The statement is false. There is a path from L to X( L-F-X). Given D, no effect occurs on this path. \n"
   ]
  },
  {
   "cell_type": "markdown",
   "metadata": {},
   "source": [
    "## Programming Homework 3\n",
    "\n",
    "In this exercise we model a string of text using a Markov(1) model. For simplicity we only consider letters 'a-z'. Capital letters 'A-Z' are mapped to the corresponding ones. All remaining letters, symbols, numbers, including spaces, are denoted by '.'.\n",
    "\n",
    "\n",
    "We have a probability table $T$ where $T_{i,j} = p(x_t = j | x_{t-1} = i)$  transition model of letters in English text for $t=1,2 \\dots N$. Assume that the initial letter in a string is always a space denoted as $x_0 = \\text{'.'}$. Such a model where the probability table is always the same is sometimes called a stationary model.\n",
    "\n",
    "1. For a given $N$, write a program to sample random strings with letters $x_1, x_2, \\dots, x_N$ from $p(x_{1:N}|x_0)$\n",
    "1. Now suppose you are given strings with missing letters, where each missing letter is denoted by a question mark (or underscore, as below). Implement a method, that samples missing letters conditioned on observed ones, i.e., samples from $p(x_{-\\alpha}|x_{\\alpha})$ where $\\alpha$ denotes indices of observed letters. For example, if the input is 't??.', we have $N=4$ and\n",
    "$x_1 = \\text{'t'}$ and $x_4 = \\text{'.'}$, $\\alpha=\\{1,4\\}$ and $-\\alpha=\\{2,3\\}$. Your program may possibly generate the strings 'the.', 'twi.', 'tee.', etc. Hint: make sure to make use all data given and sample from the correct distribution. Implement the method and print the results for the test strings below. \n",
    "1. Describe a method for filling in the gaps by estimating the most likely letter for each position. Hint: you need to compute\n",
    "$$\n",
    "x_{-\\alpha}^* = \\arg\\max_{x_{-\\alpha}} p(x_{-\\alpha}|x_{\\alpha})\n",
    "$$\n",
    "Implement the method and print the results for the following test strings along with the log-probability  $\\log p(x_{-\\alpha}^*,x_{\\alpha})$.\n",
    "1. Discuss how you can improve the model to get better estimations."
   ]
  },
  {
   "cell_type": "code",
   "execution_count": 3,
   "metadata": {
    "collapsed": true
   },
   "outputs": [],
   "source": [
    "test_strings = ['th__br__n.f_x.', '_u_st__n_.to_be._nsw_r__','i__at_._a_h_n_._e_r_i_g','q___t.___z._____t.__.___.__.']"
   ]
  },
  {
   "cell_type": "markdown",
   "metadata": {},
   "source": [
    "Hint: The code below loads a table of transition probabilities for English text."
   ]
  },
  {
   "cell_type": "code",
   "execution_count": 2,
   "metadata": {
    "collapsed": false,
    "scrolled": true
   },
   "outputs": [
    {
     "name": "stdout",
     "output_type": "stream",
     "text": [
      "Example\n"
     ]
    },
    {
     "data": {
      "text/latex": [
       "$p(x_t = \\text{'u'} | x_{t-1} = \\text{'q'})$"
      ],
      "text/plain": [
       "<IPython.core.display.Latex object>"
      ]
     },
     "metadata": {},
     "output_type": "display_data"
    },
    {
     "name": "stdout",
     "output_type": "stream",
     "text": [
      "0.9949749\n"
     ]
    },
    {
     "data": {
      "text/latex": [
       "$p(x_t | x_{t-1} = \\text{'a'})$"
      ],
      "text/plain": [
       "<IPython.core.display.Latex object>"
      ]
     },
     "metadata": {},
     "output_type": "display_data"
    },
    {
     "name": "stdout",
     "output_type": "stream",
     "text": [
      "a 0.0002835\n",
      "b 0.0228302\n",
      "c 0.0369041\n",
      "d 0.0426290\n",
      "e 0.0012216\n",
      "f 0.0075739\n",
      "g 0.0171385\n",
      "h 0.0014659\n",
      "i 0.0372661\n",
      "j 0.0002353\n",
      "k 0.0110124\n",
      "l 0.0778259\n",
      "m 0.0260757\n",
      "n 0.2145354\n",
      "o 0.0005459\n",
      "p 0.0195213\n",
      "q 0.0001749\n",
      "r 0.1104770\n",
      "s 0.0934290\n",
      "t 0.1317960\n",
      "u 0.0098029\n",
      "v 0.0306574\n",
      "w 0.0088799\n",
      "x 0.0009562\n",
      "y 0.0233701\n",
      "z 0.0018701\n",
      ". 0.0715219\n"
     ]
    }
   ],
   "source": [
    "import csv\n",
    "from IPython.display import display, Latex\n",
    "\n",
    "alphabet = [chr(i+ord('a')) for i in range(26)]\n",
    "alphabet.append('.')\n",
    "letter2idx = {c:i for i,c in enumerate(alphabet)}\n",
    "\n",
    "T = []\n",
    "with open('transitions.csv') as csvfile:\n",
    "    reader = csv.reader(csvfile, delimiter=',')\n",
    "    for row in reader:\n",
    "        T.append(row)\n",
    "\n",
    "print('Example')\n",
    "## p(x_t = 'u' | x_{t-1} = 'q')\n",
    "display(Latex(r\"$p(x_t = \\text{'u'} | x_{t-1} = \\text{'q'})$\"))\n",
    "print(T[letter2idx['q']][letter2idx['u']])\n",
    "display(Latex(r\"$p(x_t | x_{t-1} = \\text{'a'})$\"))\n",
    "for c,p in zip(alphabet,T[letter2idx['a']]):\n",
    "    print(c,p)"
   ]
  },
  {
   "cell_type": "code",
   "execution_count": 4,
   "metadata": {
    "collapsed": false
   },
   "outputs": [
    {
     "name": "stdout",
     "output_type": "stream",
     "text": [
      "1) Random Strings:\n",
      "N=5:\t .ther\n",
      "N=10:\t .m.am.e.s.\n",
      "N=20:\t .rye.u.strsey.fr.wh.\n",
      "N=50:\t .t.ir.the.ininon.on.ipeerarof.here.o.wid.ou.s.he.w\n",
      "N=100:\t .ch.d.balatrnde.icikekeeree.n.t.plumete.trst.metufinyeveain.in.f.icce.cies.d.ld.at.t.g.teavere.had.a\n",
      "\n",
      "\n",
      "2) Filling with random letter(s):\n",
      "th__br__n.f_x.\n",
      "thgebr.dn.fix.\n",
      "logP: -9.22651443544\n",
      "===\n",
      "_u_st__n_.to_be._nsw_r__\n",
      "ru.st.dna.toybe.dnsw.rac\n",
      "logP: -13.4671867078\n",
      "===\n",
      "i__at_._a_h_n_._e_r_i_g\n",
      "i.natr.taeh.na.yetroi.g\n",
      "logP: -20.3391545376\n",
      "===\n",
      "q___t.___z._____t.__.___.__.\n",
      "q.sot.traz..rarot.ya.te..eh.\n",
      "logP: -41.6614947572\n",
      "===\n",
      "\n",
      "\n",
      "3) Filling with MAP letter(s):\n",
      "th__br__n.f_x.\n",
      "th.ebra.n.f.x.\n",
      "logP: -5.35716554182\n",
      "===\n",
      "_u_st__n_.to_be._nsw_r__\n",
      "suost.dna.toybe.dnsw.ruq\n",
      "logP: -10.1342152768\n",
      "===\n",
      "i__at_._a_h_n_._e_r_i_g\n",
      "ihtata.naehtna.deerei.g\n",
      "logP: -13.4552636401\n",
      "===\n",
      "q___t.___z._____t.__.___.__.\n",
      "q.eht.dnaz.eh.eht.eh.eht.eh.\n",
      "logP: -19.9078091241\n",
      "===\n"
     ]
    }
   ],
   "source": [
    "import numpy as np\n",
    "T = np.array(T,dtype='float')\n",
    "import itertools\n",
    "\n",
    "def sample(N):\n",
    "    text = ''\n",
    "    letter = '.'\n",
    "    letter_id = letter2idx[letter]\n",
    "    text += letter\n",
    "    for i in range(1,N):  \n",
    "        row = T[letter_id,:]\n",
    "        row = row / np.sum(row)\n",
    "        letter_id = np.random.choice(len(alphabet),1,p=row)[0]\n",
    "        letter = alphabet[letter_id]\n",
    "        text += letter\n",
    "    return text\n",
    "\n",
    "def prob(text):\n",
    "    p = 1\n",
    "    for i in range(1,len(text)):\n",
    "        curr = letter2idx[text[i]]\n",
    "        prev = letter2idx[text[i-1]]\n",
    "        p *= T[curr,prev]\n",
    "    return p\n",
    "\n",
    "def index_to_text(index,rep):\n",
    "    text = []\n",
    "    for i in range(rep):\n",
    "        text.insert(0, alphabet[index % len(alphabet)])\n",
    "        index /= len(alphabet)\n",
    "        index = int(index)\n",
    "    return text\n",
    "    \n",
    "\n",
    "def generate(text):\n",
    "    count = 0\n",
    "    indices = np.where(text == '_')[0]\n",
    "    ps = []\n",
    "    max_p = 0\n",
    "    for letter_ids in itertools.product(range(len(alphabet)), repeat=len(indices)):\n",
    "        for i,id in enumerate(letter_ids):\n",
    "            text[indices[i]] = alphabet[id]\n",
    "        p = prob(text)\n",
    "        ps.append(p)\n",
    "        \n",
    "        count += 1\n",
    "        if count > 20000000:\n",
    "            print('FAIL')\n",
    "            break \n",
    "    ps = np.array(ps)\n",
    "    ps = ps / np.sum(ps)\n",
    "    max_index = np.argmax(ps)\n",
    "    rand_index = np.random.choice(len(alphabet)**len(indices),1,p=ps)[0]\n",
    "    return index_to_text(max_index,len(indices)) , index_to_text(rand_index,len(indices)), ps[max_index], ps[rand_index]\n",
    "        \n",
    "\n",
    "def fill_missings(text,random=False):\n",
    "    text = '.'+text\n",
    "    text = np.array(list(text))\n",
    "    indices = np.where(text == '_')[0]\n",
    "    start, end = 0, 0\n",
    "    p = 1\n",
    "    for i in range(1,len(text)):\n",
    "        if text[i] == '_':\n",
    "            continue\n",
    "        else:\n",
    "            end = i\n",
    "            if end >= len(text):\n",
    "                break\n",
    "            if end-start > 1:\n",
    "                max_text, rand_text, pm, pr = generate(text[start:end+1])\n",
    "                if random:\n",
    "                    text[start+1:end] = rand_text\n",
    "                    p *= pr\n",
    "                else:\n",
    "                    text[start+1:end] = max_text\n",
    "                    p *= pm\n",
    "            start = i\n",
    "    end = len(text)\n",
    "    if end - start > 1:\n",
    "        max_text, rand_text, pm, pr = generate(text[start:end])\n",
    "        if random:\n",
    "            text[start+1:end] = rand_text\n",
    "            p *= pr\n",
    "        else:\n",
    "            text[start+1:end] = max_text\n",
    "            p *= pm\n",
    "    return ''.join(text)[1:], np.log(p)\n",
    "\n",
    "print('1) Random Strings:')\n",
    "for i in [5,10,20,50,100]:\n",
    "    print('N='+str(i)+':\\t',sample(i))\n",
    "print('\\n')\n",
    "print('2) Filling with random letter(s):')\n",
    "for string in test_strings:\n",
    "    print(string)\n",
    "    new_string, logp = fill_missings(string,True)\n",
    "    print(new_string)\n",
    "    print('logP: '+str(logp))\n",
    "    print('===')\n",
    "\n",
    "print('\\n')\n",
    "print('3) Filling with MAP letter(s):')\n",
    "for string in test_strings:\n",
    "    print(string)\n",
    "    new_string, logp = fill_missings(string,False)\n",
    "    print(new_string)\n",
    "    print('logP: '+str(logp))\n",
    "    print('===')\n"
   ]
  }
 ],
 "metadata": {
  "anaconda-cloud": {},
  "kernelspec": {
   "display_name": "Python 2",
   "language": "python",
   "name": "python2"
  },
  "language_info": {
   "codemirror_mode": {
    "name": "ipython",
    "version": 2
   },
   "file_extension": ".py",
   "mimetype": "text/x-python",
   "name": "python",
   "nbconvert_exporter": "python",
   "pygments_lexer": "ipython2",
   "version": "2.7.13"
  }
 },
 "nbformat": 4,
 "nbformat_minor": 0
}
